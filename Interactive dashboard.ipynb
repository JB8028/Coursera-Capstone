{
 "cells": [
  {
   "cell_type": "code",
   "execution_count": 13,
   "id": "58e8394c-03ae-4db6-9049-c4a63585043d",
   "metadata": {},
   "outputs": [
    {
     "name": "stdout",
     "output_type": "stream",
     "text": [
      "File downloaded as spacex_launch_dash.csv\n"
     ]
    }
   ],
   "source": [
    "import urllib.request\n",
    "\n",
    "# URL of the file\n",
    "url = \"https://cf-courses-data.s3.us.cloud-object-storage.appdomain.cloud/IBM-DS0321EN-SkillsNetwork/datasets/spacex_launch_dash.csv\"\n",
    "\n",
    "# Desired filename for the downloaded file\n",
    "filename = \"spacex_launch_dash.csv\"\n",
    "\n",
    "# Download the file\n",
    "urllib.request.urlretrieve(url, filename)\n",
    "\n",
    "print(f\"File downloaded as {filename}\")\n"
   ]
  },
  {
   "cell_type": "code",
   "execution_count": 14,
   "id": "04f0982b-bfcf-4c79-a433-aac1d61c214b",
   "metadata": {},
   "outputs": [
    {
     "name": "stdout",
     "output_type": "stream",
     "text": [
      "   Unnamed: 0  Flight Number  Launch Site  class  Payload Mass (kg)  \\\n",
      "0           0              1  CCAFS LC-40      0                0.0   \n",
      "1           1              2  CCAFS LC-40      0                0.0   \n",
      "2           2              3  CCAFS LC-40      0              525.0   \n",
      "3           3              4  CCAFS LC-40      0              500.0   \n",
      "4           4              5  CCAFS LC-40      0              677.0   \n",
      "\n",
      "  Booster Version Booster Version Category  \n",
      "0  F9 v1.0  B0003                     v1.0  \n",
      "1  F9 v1.0  B0004                     v1.0  \n",
      "2  F9 v1.0  B0005                     v1.0  \n",
      "3  F9 v1.0  B0006                     v1.0  \n",
      "4  F9 v1.0  B0007                     v1.0  \n"
     ]
    }
   ],
   "source": [
    "import pandas as pd\n",
    "\n",
    "# Load the CSV file into a DataFrame\n",
    "df = pd.read_csv(\"spacex_launch_dash.csv\")\n",
    "\n",
    "# Display the first few rows\n",
    "print(df.head())\n"
   ]
  },
  {
   "cell_type": "code",
   "execution_count": 17,
   "id": "27cee794-91ba-440f-bb3e-abe73103f3ee",
   "metadata": {},
   "outputs": [],
   "source": [
    "# pip install dash pandas plotly\n"
   ]
  },
  {
   "cell_type": "code",
   "execution_count": 19,
   "id": "e5148340-f644-4018-9985-b03eb886c384",
   "metadata": {
    "scrolled": true
   },
   "outputs": [
    {
     "data": {
      "text/html": [
       "\n",
       "        <iframe\n",
       "            width=\"100%\"\n",
       "            height=\"650\"\n",
       "            src=\"http://127.0.0.1:8050/\"\n",
       "            frameborder=\"0\"\n",
       "            allowfullscreen\n",
       "            \n",
       "        ></iframe>\n",
       "        "
      ],
      "text/plain": [
       "<IPython.lib.display.IFrame at 0x18fe0da1760>"
      ]
     },
     "metadata": {},
     "output_type": "display_data"
    }
   ],
   "source": [
    "import dash\n",
    "import dash_core_components as dcc\n",
    "import dash_html_components as html\n",
    "from dash.dependencies import Input, Output\n",
    "import plotly.express as px\n",
    "\n",
    "# Initialize the Dash app\n",
    "app = dash.Dash(__name__)\n",
    "\n",
    "# App layout\n",
    "app.layout = html.Div([\n",
    "    # Dropdown for selecting launch sites\n",
    "    dcc.Dropdown(\n",
    "        id='site-dropdown',\n",
    "        options=[\n",
    "            {'label': 'All Sites', 'value': 'ALL'},\n",
    "            {'label': 'KSC LC-39A', 'value': 'KSC LC-39A'},\n",
    "            {'label': 'CCAFS LC-40', 'value': 'CCAFS LC-40'},\n",
    "            {'label': 'VAFB SLC-4E', 'value': 'VAFB SLC-4E'},\n",
    "            {'label': 'CCAFS SLC-40', 'value': 'CCAFS SLC-40'}\n",
    "        ],\n",
    "        value='ALL',\n",
    "        placeholder=\"Select a Launch Site\",\n",
    "        searchable=True\n",
    "    ),\n",
    "    # Pie chart\n",
    "    dcc.Graph(id='success-pie-chart'),\n",
    "])\n",
    "\n",
    "# Callback to update pie chart based on selected launch site\n",
    "@app.callback(\n",
    "    Output('success-pie-chart', 'figure'),\n",
    "    [Input('site-dropdown', 'value')]\n",
    ")\n",
    "def update_pie_chart(selected_site):\n",
    "    if selected_site == 'ALL':\n",
    "        # Aggregate success counts for all sites\n",
    "        fig = px.pie(df, names='Launch Site', title='Total Success Launches By Site')\n",
    "    else:\n",
    "        # Filter data for the selected site\n",
    "        filtered_df = df[df['Launch Site'] == selected_site]\n",
    "        success_counts = filtered_df['class'].value_counts().reset_index()\n",
    "        success_counts.columns = ['Outcome', 'Count']\n",
    "        fig = px.pie(success_counts, names='Outcome', values='Count', \n",
    "                     title=f'Total Success Launches for site {selected_site}')\n",
    "    return fig\n",
    "\n",
    "# Run the app\n",
    "if __name__ == '__main__':\n",
    "    app.run_server(debug=True)\n"
   ]
  },
  {
   "cell_type": "code",
   "execution_count": 6,
   "id": "662d2ef2-f45a-4e96-b305-c08b64388527",
   "metadata": {},
   "outputs": [
    {
     "data": {
      "text/html": [
       "\n",
       "        <iframe\n",
       "            width=\"100%\"\n",
       "            height=\"650\"\n",
       "            src=\"http://127.0.0.1:8050/\"\n",
       "            frameborder=\"0\"\n",
       "            allowfullscreen\n",
       "            \n",
       "        ></iframe>\n",
       "        "
      ],
      "text/plain": [
       "<IPython.lib.display.IFrame at 0x18fde37ed20>"
      ]
     },
     "metadata": {},
     "output_type": "display_data"
    }
   ],
   "source": [
    "# Initialize the Dash app\n",
    "app = dash.Dash(__name__)\n",
    "\n",
    "# App layout\n",
    "app.layout = html.Div([\n",
    "    # Dropdown for selecting launch sites\n",
    "    dcc.Dropdown(\n",
    "        id='site-dropdown',\n",
    "        options=[\n",
    "            {'label': 'All Sites', 'value': 'ALL'},\n",
    "            {'label': 'KSC LC-39A', 'value': 'KSC LC-39A'},\n",
    "            {'label': 'CCAFS LC-40', 'value': 'CCAFS LC-40'},\n",
    "            {'label': 'VAFB SLC-4E', 'value': 'VAFB SLC-4E'},\n",
    "            {'label': 'CCAFS SLC-40', 'value': 'CCAFS SLC-40'}\n",
    "        ],\n",
    "        value='ALL',\n",
    "        placeholder=\"Select a Launch Site\",\n",
    "        searchable=True\n",
    "    ),\n",
    "    # Pie chart\n",
    "    dcc.Graph(id='success-pie-chart'),\n",
    "])\n",
    "\n",
    "# Callback to update pie chart based on selected launch site\n",
    "@app.callback(\n",
    "    Output('success-pie-chart', 'figure'),\n",
    "    [Input('site-dropdown', 'value')]\n",
    ")\n",
    "def update_pie_chart(selected_site):\n",
    "    if selected_site == 'ALL':\n",
    "        # Aggregate success counts for all sites\n",
    "        fig = px.pie(df, names='Launch Site', title='Total Success Launches By Site')\n",
    "    else:\n",
    "        # Filter data for the selected site\n",
    "        filtered_df = df[df['Launch Site'] == selected_site]\n",
    "        success_counts = filtered_df['class'].value_counts().reset_index()\n",
    "        success_counts.columns = ['Outcome', 'Count']\n",
    "        fig = px.pie(success_counts, names='Outcome', values='Count', \n",
    "                     title=f'Total Success Launches for site {selected_site}')\n",
    "    return fig\n",
    "\n",
    "# Run the app\n",
    "if __name__ == '__main__':\n",
    "    app.run_server(debug=True)"
   ]
  },
  {
   "cell_type": "code",
   "execution_count": 9,
   "id": "5eb00b09-683e-47c6-a334-d65275d5d86f",
   "metadata": {},
   "outputs": [
    {
     "data": {
      "text/html": [
       "\n",
       "        <iframe\n",
       "            width=\"100%\"\n",
       "            height=\"650\"\n",
       "            src=\"http://127.0.0.1:8050/\"\n",
       "            frameborder=\"0\"\n",
       "            allowfullscreen\n",
       "            \n",
       "        ></iframe>\n",
       "        "
      ],
      "text/plain": [
       "<IPython.lib.display.IFrame at 0x18fdf4aa4e0>"
      ]
     },
     "metadata": {},
     "output_type": "display_data"
    }
   ],
   "source": [
    "import dash\n",
    "import dash_core_components as dcc\n",
    "import dash_html_components as html\n",
    "from dash.dependencies import Input, Output\n",
    "import pandas as pd\n",
    "import plotly.express as px\n",
    "\n",
    "# Load the dataset\n",
    "df = pd.read_csv('spacex_launch_dash.csv')\n",
    "\n",
    "# Initialize the Dash app\n",
    "app = dash.Dash(__name__)\n",
    "\n",
    "# App layout\n",
    "app.layout = html.Div([\n",
    "    # Dropdown for selecting launch sites\n",
    "    dcc.Dropdown(\n",
    "        id='site-dropdown',\n",
    "        options=[\n",
    "            {'label': 'All Sites', 'value': 'ALL'},\n",
    "            {'label': 'KSC LC-39A', 'value': 'KSC LC-39A'},\n",
    "            {'label': 'CCAFS LC-40', 'value': 'CCAFS LC-40'},\n",
    "            {'label': 'VAFB SLC-4E', 'value': 'VAFB SLC-4E'}\n",
    "        ],\n",
    "        value='ALL',\n",
    "        placeholder=\"Select a Launch Site\",\n",
    "        searchable=True\n",
    "    ),\n",
    "    \n",
    "    # Range Slider for payload selection\n",
    "    dcc.RangeSlider(\n",
    "        id='payload-slider',\n",
    "        min=0,  # Minimum payload\n",
    "        max=10000,  # Maximum payload\n",
    "        step=1000,  # Slider step size\n",
    "        value=[0, 10000],  # Default range\n",
    "        marks={i: f'{i} Kg' for i in range(0, 10001, 2000)}  # Marks on slider\n",
    "    ),\n",
    "    \n",
    "    # Graph for visualizing data\n",
    "    dcc.Graph(id='success-payload-scatter-chart'),\n",
    "])\n",
    "\n",
    "# Callback to update the scatter chart based on selected launch site and payload range\n",
    "@app.callback(\n",
    "    Output('success-payload-scatter-chart', 'figure'),\n",
    "    [Input('site-dropdown', 'value'),\n",
    "     Input('payload-slider', 'value')]\n",
    ")\n",
    "def update_scatter_chart(selected_site, payload_range):\n",
    "    # Filter data by payload range\n",
    "    filtered_df = df[(df['Payload Mass (kg)'] >= payload_range[0]) & (df['Payload Mass (kg)'] <= payload_range[1])]\n",
    "    \n",
    "    # Filter data by launch site if a specific site is selected\n",
    "    if selected_site == 'ALL':\n",
    "        fig = px.scatter(\n",
    "            filtered_df,\n",
    "            x='Payload Mass (kg)',\n",
    "            y='class',\n",
    "            color='Booster Version Category',\n",
    "            title='Payload vs. Outcome for All Sites'\n",
    "        )\n",
    "    else:\n",
    "        filtered_df = filtered_df[filtered_df['Launch Site'] == selected_site]\n",
    "        fig = px.scatter(\n",
    "            filtered_df,\n",
    "            x='Payload Mass (kg)',\n",
    "            y='class',\n",
    "            color='Booster Version Category',\n",
    "            title=f'Payload vs. Outcome for {selected_site}'\n",
    "        )\n",
    "    return fig\n",
    "\n",
    "# Run the app\n",
    "if __name__ == '__main__':\n",
    "    app.run_server(debug=True)\n"
   ]
  },
  {
   "cell_type": "code",
   "execution_count": 21,
   "id": "c76ef3b9-fe22-435d-96df-6bc8d643e5a4",
   "metadata": {
    "scrolled": true
   },
   "outputs": [
    {
     "data": {
      "text/html": [
       "\n",
       "        <iframe\n",
       "            width=\"100%\"\n",
       "            height=\"650\"\n",
       "            src=\"http://127.0.0.1:8050/\"\n",
       "            frameborder=\"0\"\n",
       "            allowfullscreen\n",
       "            \n",
       "        ></iframe>\n",
       "        "
      ],
      "text/plain": [
       "<IPython.lib.display.IFrame at 0x18fe14a1730>"
      ]
     },
     "metadata": {},
     "output_type": "display_data"
    }
   ],
   "source": [
    "import dash\n",
    "import dash_core_components as dcc\n",
    "import dash_html_components as html\n",
    "from dash.dependencies import Input, Output\n",
    "import pandas as pd\n",
    "import plotly.express as px\n",
    "\n",
    "# Load the dataset\n",
    "df = pd.read_csv('spacex_launch_dash.csv')\n",
    "\n",
    "# Initialize the Dash app\n",
    "app = dash.Dash(__name__)\n",
    "\n",
    "# App layout\n",
    "app.layout = html.Div([\n",
    "    # Dropdown for selecting launch sites\n",
    "    dcc.Dropdown(\n",
    "        id='site-dropdown',\n",
    "        options=[\n",
    "            {'label': 'All Sites', 'value': 'ALL'},\n",
    "            {'label': 'KSC LC-39A', 'value': 'KSC LC-39A'},\n",
    "            {'label': 'CCAFS LC-40', 'value': 'CCAFS LC-40'},\n",
    "            {'label': 'VAFB SLC-4E', 'value': 'VAFB SLC-4E'}\n",
    "        ],\n",
    "        value='ALL',\n",
    "        placeholder=\"Select a Launch Site\",\n",
    "        searchable=True\n",
    "    ),\n",
    "    \n",
    "    # Range Slider for payload selection\n",
    "    dcc.RangeSlider(\n",
    "        id='payload-slider',\n",
    "        min=0,\n",
    "        max=10000,\n",
    "        step=1000,\n",
    "        value=[0, 10000],\n",
    "        marks={i: f'{i} Kg' for i in range(0, 10001, 2000)}\n",
    "    ),\n",
    "    \n",
    "    # Scatter plot\n",
    "    dcc.Graph(id='success-payload-scatter-chart'),\n",
    "])\n",
    "\n",
    "# Callback to update the scatter plot\n",
    "@app.callback(\n",
    "    Output('success-payload-scatter-chart', 'figure'),\n",
    "    [Input('site-dropdown', 'value'),\n",
    "     Input('payload-slider', 'value')]\n",
    ")\n",
    "def update_scatter_chart(selected_site, payload_range):\n",
    "    # Filter data by payload range\n",
    "    filtered_df = df[(df['Payload Mass (kg)'] >= payload_range[0]) & (df['Payload Mass (kg)'] <= payload_range[1])]\n",
    "    \n",
    "    # Filter data by launch site\n",
    "    if selected_site == 'ALL':\n",
    "        # Scatter plot for all sites\n",
    "        fig = px.scatter(\n",
    "            filtered_df,\n",
    "            x='Payload Mass (kg)',\n",
    "            y='class',\n",
    "            color='Booster Version Category',\n",
    "            title='Payload vs. Outcome for All Sites',\n",
    "            labels={'class': 'Launch Outcome'}\n",
    "        )\n",
    "    else:\n",
    "        # Scatter plot for a specific site\n",
    "        filtered_df = filtered_df[filtered_df['Launch Site'] == selected_site]\n",
    "        fig = px.scatter(\n",
    "            filtered_df,\n",
    "            x='Payload Mass (kg)',\n",
    "            y='class',\n",
    "            color='Booster Version Category',\n",
    "            title=f'Payload vs. Outcome for {selected_site}',\n",
    "            labels={'class': 'Launch Outcome'}\n",
    "        )\n",
    "    return fig\n",
    "\n",
    "# Run the app\n",
    "if __name__ == '__main__':\n",
    "    app.run_server(debug=True)\n"
   ]
  },
  {
   "cell_type": "code",
   "execution_count": null,
   "id": "caf66be1-409d-41ad-be9f-47455778801e",
   "metadata": {},
   "outputs": [],
   "source": []
  },
  {
   "cell_type": "code",
   "execution_count": null,
   "id": "79fcbdc4-e812-4e26-bac7-242d137c4fb1",
   "metadata": {},
   "outputs": [],
   "source": []
  },
  {
   "cell_type": "code",
   "execution_count": null,
   "id": "3d22d8c1-c117-42fc-b23c-1a0b9c929f26",
   "metadata": {},
   "outputs": [],
   "source": []
  }
 ],
 "metadata": {
  "kernelspec": {
   "display_name": "Python 3 (ipykernel)",
   "language": "python",
   "name": "python3"
  },
  "language_info": {
   "codemirror_mode": {
    "name": "ipython",
    "version": 3
   },
   "file_extension": ".py",
   "mimetype": "text/x-python",
   "name": "python",
   "nbconvert_exporter": "python",
   "pygments_lexer": "ipython3",
   "version": "3.12.4"
  }
 },
 "nbformat": 4,
 "nbformat_minor": 5
}
